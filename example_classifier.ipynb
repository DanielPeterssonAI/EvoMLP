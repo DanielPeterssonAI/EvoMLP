{
 "cells": [
  {
   "cell_type": "markdown",
   "metadata": {},
   "source": [
    "EvoMLPClassifier"
   ]
  }
 ],
 "metadata": {
  "interpreter": {
   "hash": "1a5361d98b3513d72cb4620654a80a0bb40d1ea53adf5703cbac5d5174886d6d"
  },
  "kernelspec": {
   "display_name": "Python 3.9.12 ('EvoMLP-1oh6nhp_')",
   "language": "python",
   "name": "python3"
  },
  "language_info": {
   "codemirror_mode": {
    "name": "ipython",
    "version": 3
   },
   "file_extension": ".py",
   "mimetype": "text/x-python",
   "name": "python",
   "nbconvert_exporter": "python",
   "pygments_lexer": "ipython3",
   "version": "3.9.12"
  },
  "orig_nbformat": 4
 },
 "nbformat": 4,
 "nbformat_minor": 2
}
